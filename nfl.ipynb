{
 "cells": [
  {
   "cell_type": "code",
   "execution_count": 724,
   "metadata": {},
   "outputs": [],
   "source": [
    "import pandas as pd\n",
    "import random\n",
    "import warnings\n",
    "from numpy import array \n",
    "warnings.filterwarnings(\"ignore\", category=DeprecationWarning) \n",
    "warnings.simplefilter(action='ignore', category=FutureWarning)\n",
    "\n",
    "\n",
    "\n"
   ]
  },
  {
   "cell_type": "code",
   "execution_count": 725,
   "metadata": {},
   "outputs": [],
   "source": [
    "def get_data()->pd.DataFrame:\n",
    "    df = pd.read_csv('data.csv')\n",
    "    df.drop(columns=['wins', 'losses'], inplace=True)\n",
    "    df['comp_pct'] = df['pass_cmp']/df['pass_att']\n",
    "    df = df[df['year'] > 2018]\n",
    "    df.columns = df.columns.str.replace('_y', 'y')\n",
    "\n",
    "    return df\n",
    "\n",
    "pd.set_option('display.max_columns', None)\n",
    "\n",
    "\n",
    "def prep_season_data()->pd.DataFrame:\n",
    "    df = get_data()\n",
    "    df['ties'] = df['ties'].fillna(0)\n",
    "    to_not_average = ['year', 'team', 'ties', 'win_loss_perc', 'yds_per_play_offense', 'pass_net_yds_per_att', 'rush_yds_per_att','score_pct', 'turnover_pct','g', \"comp_pct\", \"points_diff\", \"mov\" ]\n",
    "    for col in df.columns:\n",
    "        if col not in to_not_average:\n",
    "            df[col] = df[col]/df['g']\n",
    "    df['mov'] = df['points_diff']/ df['g']\n",
    "    return df.drop(columns=['g'])\n"
   ]
  },
  {
   "cell_type": "code",
   "execution_count": 726,
   "metadata": {},
   "outputs": [
    {
     "data": {
      "text/plain": [
       "stadium_weather_type\n",
       "cold        379\n",
       "indoor      262\n",
       "moderate    189\n",
       "warm        150\n",
       "Name: count, dtype: int64"
      ]
     },
     "execution_count": 726,
     "metadata": {},
     "output_type": "execute_result"
    }
   ],
   "source": [
    "def get_team_df():\n",
    "    team_df = pd.read_csv('nfl_teams.csv')\n",
    "    team_df.drop(columns=[\"team_id_pfr\",\"team_conference_pre2002\", \"team_division_pre2002\" ], inplace=True)\n",
    "    return team_df\n",
    "\n",
    "def get_games_df():\n",
    "    games= pd.read_csv('spreadspoke_scores.csv')\n",
    "    games = games[games['schedule_season'] >2018]\n",
    "    #getting rid of the first 5 weeks of the season because there will not be enough data to make a prediction\n",
    "    games = games[games['schedule_week'] != '1']\n",
    "    games = games[games['schedule_week'] != '2']\n",
    "    games = games[games['schedule_week'] !='3']\n",
    "    games = games[games['schedule_week'] !='4']\n",
    "    games = games[games['schedule_week'] !='5']\n",
    "\n",
    "    games['spread_favorite_sort'] = abs(games['spread_favorite'])\n",
    "    \n",
    "    return games\n",
    "    \n",
    "\n",
    "def get_stadiums():\n",
    "    stadiums = pd.read_csv('nfl_stadiums.csv')\n",
    "    return stadiums\n",
    "\n",
    "def mege_dfs():\n",
    "    team_df = get_team_df()\n",
    "    df =prep_data()\n",
    "    df = df.merge(team_df, left_on='team', right_on='team_name', how='left')\n",
    "    stadiums = get_stadiums()\n",
    "    games_df = get_games_df()\n",
    "    games_df = games_df.merge(stadiums, left_on='stadium', right_on='stadium_name', how='left')\n",
    "    games_df =games_df[games_df['stadium_neutral'] == False]\n",
    "\n",
    "    games_df.drop(columns=['stadium_name', 'stadium_location', 'stadium_open', 'stadium_close', 'stadium_type', 'stadium_address', 'stadium_weather_station_zipcode', 'stadium_surface', 'stadium_weather_station', 'stadium_weather_station_name', 'stadium_latitude', 'stadium_longitude', 'stadium_azimuthangle', 'stadium_elevation', 'weather_temperature', 'weather_wind_mph', 'weather_humidity', 'weather_detail', 'stadium_capacity', \"stadium\"], inplace=True)\n",
    "    games_df = df.merge(games_df, left_on=['year', 'team'], right_on=['schedule_season', 'team_home' ], how='left')\n",
    "    games_df = df.merge(games_df, left_on=['year', 'team'], right_on=['schedule_season', 'team_away' ], how='left')\n",
    "    # change the \"_x\" and \"_y\" to \"_home\" and \"_away\"\n",
    "    games_df.columns = games_df.columns.str.replace('_x', '_home')\n",
    "    games_df.columns = games_df.columns.str.replace('_y', '_away')\n",
    "    games_df['home_fav'] = games_df['team_favorite_id'] == games_df['team_id_home']\n",
    "    games_df['home_win'] = games_df['score_home'] > games_df['score_away']\n",
    "    games_df = games_df.sort_values(by='spread_favorite_sort', ascending=True)\n",
    "    games_df['over_under_line'] = games_df['over_under_line'].astype(float)\n",
    "    games_df['over_under_line'] = games_df['over_under_line'].fillna(games_df['over_under_line'].mean())\n",
    "\n",
    "    return games_df\n",
    "\n",
    "df= mege_dfs()\n",
    "\n",
    "\n",
    "columns_to_drop = [\n",
    "    'spread_favorite_sort', 'stadium_neutral', 'team_favorite_id', 'team_away', \n",
    "    'schedule_playoff', 'team_home', 'schedule_season', 'schedule_week', \n",
    "    'team_name_away', 'team_name_short_away', 'team_id_away', \n",
    "    'team_conference_away', 'team_division_away', 'schedule_date', \n",
    "    'team_away', 'team_name_home', 'team_name_short_home', 'team_id_home', \n",
    "    'team_conference_home', 'team_division_home', 'year_away', 'year_home', 'ties_home'\n",
    "]\n",
    "\n",
    "df.drop(columns=columns_to_drop, inplace=True)\n",
    "df\n",
    "\n",
    "\n",
    "#bin rare group values\n",
    "df['stadium_weather_type'].unique()\n",
    "df['stadium_weather_type'].value_counts()\n",
    "# Most are either cold or indoor. Since these both  "
   ]
  }
 ],
 "metadata": {
  "kernelspec": {
   "display_name": "venv",
   "language": "python",
   "name": "python3"
  },
  "language_info": {
   "codemirror_mode": {
    "name": "ipython",
    "version": 3
   },
   "file_extension": ".py",
   "mimetype": "text/x-python",
   "name": "python",
   "nbconvert_exporter": "python",
   "pygments_lexer": "ipython3",
   "version": "3.12.2"
  }
 },
 "nbformat": 4,
 "nbformat_minor": 2
}
